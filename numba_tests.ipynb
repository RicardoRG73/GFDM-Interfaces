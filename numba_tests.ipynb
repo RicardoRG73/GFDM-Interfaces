{
 "cells": [
  {
   "cell_type": "code",
   "execution_count": 1,
   "metadata": {},
   "outputs": [],
   "source": [
    "import numpy as np\n",
    "from numba import jit"
   ]
  },
  {
   "cell_type": "code",
   "execution_count": 35,
   "metadata": {},
   "outputs": [],
   "source": [
    "def python_matrix_K(n,m):\n",
    "    K = np.zeros((n,m))\n",
    "    for i in range(n):\n",
    "        for j in range(m):\n",
    "            K[i,j] = i + j\n",
    "    return K"
   ]
  },
  {
   "cell_type": "code",
   "execution_count": 10,
   "metadata": {},
   "outputs": [
    {
     "name": "stdout",
     "output_type": "stream",
     "text": [
      "CPU times: total: 7.33 s\n",
      "Wall time: 7.75 s\n"
     ]
    },
    {
     "data": {
      "text/plain": [
       "array([[0.0000e+00, 1.0000e+00, 2.0000e+00, ..., 5.9970e+03, 5.9980e+03,\n",
       "        5.9990e+03],\n",
       "       [1.0000e+00, 2.0000e+00, 3.0000e+00, ..., 5.9980e+03, 5.9990e+03,\n",
       "        6.0000e+03],\n",
       "       [2.0000e+00, 3.0000e+00, 4.0000e+00, ..., 5.9990e+03, 6.0000e+03,\n",
       "        6.0010e+03],\n",
       "       ...,\n",
       "       [9.9970e+03, 9.9980e+03, 9.9990e+03, ..., 1.5994e+04, 1.5995e+04,\n",
       "        1.5996e+04],\n",
       "       [9.9980e+03, 9.9990e+03, 1.0000e+04, ..., 1.5995e+04, 1.5996e+04,\n",
       "        1.5997e+04],\n",
       "       [9.9990e+03, 1.0000e+04, 1.0001e+04, ..., 1.5996e+04, 1.5997e+04,\n",
       "        1.5998e+04]])"
      ]
     },
     "execution_count": 10,
     "metadata": {},
     "output_type": "execute_result"
    }
   ],
   "source": [
    "n = 10000\n",
    "m = 6000\n",
    "%time python_matrix_K(n,m)"
   ]
  },
  {
   "cell_type": "code",
   "execution_count": 32,
   "metadata": {},
   "outputs": [],
   "source": [
    "@jit(nopython=True)\n",
    "def numba_matrix_K(n,m):\n",
    "    K = np.zeros((n,m))\n",
    "    for i in range(n):\n",
    "        for j in range(m):\n",
    "            K[i,j] = i + j\n",
    "    return K"
   ]
  },
  {
   "cell_type": "code",
   "execution_count": 12,
   "metadata": {},
   "outputs": [
    {
     "name": "stdout",
     "output_type": "stream",
     "text": [
      "CPU times: total: 1.61 s\n",
      "Wall time: 1.7 s\n"
     ]
    },
    {
     "data": {
      "text/plain": [
       "array([[0.0000e+00, 1.0000e+00, 2.0000e+00, ..., 5.9997e+04, 5.9998e+04,\n",
       "        5.9999e+04],\n",
       "       [1.0000e+00, 2.0000e+00, 3.0000e+00, ..., 5.9998e+04, 5.9999e+04,\n",
       "        6.0000e+04],\n",
       "       [2.0000e+00, 3.0000e+00, 4.0000e+00, ..., 5.9999e+04, 6.0000e+04,\n",
       "        6.0001e+04],\n",
       "       ...,\n",
       "       [9.9970e+03, 9.9980e+03, 9.9990e+03, ..., 6.9994e+04, 6.9995e+04,\n",
       "        6.9996e+04],\n",
       "       [9.9980e+03, 9.9990e+03, 1.0000e+04, ..., 6.9995e+04, 6.9996e+04,\n",
       "        6.9997e+04],\n",
       "       [9.9990e+03, 1.0000e+04, 1.0001e+04, ..., 6.9996e+04, 6.9997e+04,\n",
       "        6.9998e+04]])"
      ]
     },
     "execution_count": 12,
     "metadata": {},
     "output_type": "execute_result"
    }
   ],
   "source": [
    "n = 10000\n",
    "m = 60000\n",
    "%time numba_matrix_K(n,m)"
   ]
  },
  {
   "cell_type": "code",
   "execution_count": 28,
   "metadata": {},
   "outputs": [],
   "source": [
    "def numpy_matrix_K(n,m):\n",
    "    return np.outer(np.arange(n), np.arange(m)) + np.kron(np.ones(m), np.arange(n)).reshape((n,m))"
   ]
  },
  {
   "cell_type": "code",
   "execution_count": 40,
   "metadata": {},
   "outputs": [
    {
     "name": "stdout",
     "output_type": "stream",
     "text": [
      "CPU times: total: 6.8 s\n",
      "Wall time: 7.42 s\n"
     ]
    },
    {
     "data": {
      "text/plain": [
       "array([[0.00000000e+00, 1.00000000e+00, 2.00000000e+00, ...,\n",
       "        9.99700000e+03, 9.99800000e+03, 9.99900000e+03],\n",
       "       [0.00000000e+00, 2.00000000e+00, 4.00000000e+00, ...,\n",
       "        6.99940000e+04, 6.99960000e+04, 6.99980000e+04],\n",
       "       [0.00000000e+00, 3.00000000e+00, 6.00000000e+00, ...,\n",
       "        1.29991000e+05, 1.29994000e+05, 1.29997000e+05],\n",
       "       ...,\n",
       "       [0.00000000e+00, 9.99800000e+03, 1.99960000e+04, ...,\n",
       "        5.99800006e+08, 5.99810004e+08, 5.99820002e+08],\n",
       "       [0.00000000e+00, 9.99900000e+03, 1.99980000e+04, ...,\n",
       "        5.99860003e+08, 5.99870002e+08, 5.99880001e+08],\n",
       "       [0.00000000e+00, 1.00000000e+04, 2.00000000e+04, ...,\n",
       "        5.99920000e+08, 5.99930000e+08, 5.99940000e+08]])"
      ]
     },
     "execution_count": 40,
     "metadata": {},
     "output_type": "execute_result"
    }
   ],
   "source": [
    "n = 10000\n",
    "m = 60000\n",
    "%time numpy_matrix_K(n,m)"
   ]
  },
  {
   "cell_type": "code",
   "execution_count": 39,
   "metadata": {},
   "outputs": [
    {
     "name": "stdout",
     "output_type": "stream",
     "text": [
      "[[ 0.  1.  2.  3.  4.  5.]\n",
      " [ 6.  8. 10. 12.  4.  6.]\n",
      " [ 2.  5.  8. 11. 14. 17.]\n",
      " [ 8. 12.  6. 10. 14. 18.]\n",
      " [ 4.  9. 14. 19. 24. 29.]\n",
      " [ 0.  6. 12. 18. 24. 30.]\n",
      " [ 6. 13. 20. 27. 24. 31.]\n",
      " [ 2. 10. 18. 26. 34. 42.]\n",
      " [ 8. 17. 16. 25. 34. 43.]\n",
      " [ 4. 14. 24. 34. 44. 54.]]\n"
     ]
    }
   ],
   "source": [
    "print(numpy_matrix_K(10,6))"
   ]
  },
  {
   "cell_type": "code",
   "execution_count": 37,
   "metadata": {},
   "outputs": [
    {
     "name": "stdout",
     "output_type": "stream",
     "text": [
      "[[ 0.  1.  2.  3.  4.  5.]\n",
      " [ 1.  2.  3.  4.  5.  6.]\n",
      " [ 2.  3.  4.  5.  6.  7.]\n",
      " [ 3.  4.  5.  6.  7.  8.]\n",
      " [ 4.  5.  6.  7.  8.  9.]\n",
      " [ 5.  6.  7.  8.  9. 10.]\n",
      " [ 6.  7.  8.  9. 10. 11.]\n",
      " [ 7.  8.  9. 10. 11. 12.]\n",
      " [ 8.  9. 10. 11. 12. 13.]\n",
      " [ 9. 10. 11. 12. 13. 14.]]\n"
     ]
    }
   ],
   "source": [
    "print(numba_matrix_K(10,6))"
   ]
  },
  {
   "cell_type": "code",
   "execution_count": 36,
   "metadata": {},
   "outputs": [
    {
     "name": "stdout",
     "output_type": "stream",
     "text": [
      "[[ 0.  1.  2.  3.  4.  5.]\n",
      " [ 1.  2.  3.  4.  5.  6.]\n",
      " [ 2.  3.  4.  5.  6.  7.]\n",
      " [ 3.  4.  5.  6.  7.  8.]\n",
      " [ 4.  5.  6.  7.  8.  9.]\n",
      " [ 5.  6.  7.  8.  9. 10.]\n",
      " [ 6.  7.  8.  9. 10. 11.]\n",
      " [ 7.  8.  9. 10. 11. 12.]\n",
      " [ 8.  9. 10. 11. 12. 13.]\n",
      " [ 9. 10. 11. 12. 13. 14.]]\n"
     ]
    }
   ],
   "source": [
    "print(python_matrix_K(10,6))"
   ]
  },
  {
   "cell_type": "code",
   "execution_count": null,
   "metadata": {},
   "outputs": [],
   "source": []
  }
 ],
 "metadata": {
  "kernelspec": {
   "display_name": "gfdm",
   "language": "python",
   "name": "python3"
  },
  "language_info": {
   "codemirror_mode": {
    "name": "ipython",
    "version": 3
   },
   "file_extension": ".py",
   "mimetype": "text/x-python",
   "name": "python",
   "nbconvert_exporter": "python",
   "pygments_lexer": "ipython3",
   "version": "3.10.0"
  },
  "orig_nbformat": 4
 },
 "nbformat": 4,
 "nbformat_minor": 2
}
